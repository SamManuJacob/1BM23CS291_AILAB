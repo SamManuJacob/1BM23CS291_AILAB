{
  "nbformat": 4,
  "nbformat_minor": 0,
  "metadata": {
    "colab": {
      "provenance": [],
      "authorship_tag": "ABX9TyN98rmnA/Nu9MX7TUQ9dtx2",
      "include_colab_link": true
    },
    "kernelspec": {
      "name": "python3",
      "display_name": "Python 3"
    },
    "language_info": {
      "name": "python"
    }
  },
  "cells": [
    {
      "cell_type": "markdown",
      "metadata": {
        "id": "view-in-github",
        "colab_type": "text"
      },
      "source": [
        "<a href=\"https://colab.research.google.com/github/SamManuJacob/1BM23CS291_AILAB/blob/main/Iterative_Deepening.ipynb\" target=\"_parent\"><img src=\"https://colab.research.google.com/assets/colab-badge.svg\" alt=\"Open In Colab\"/></a>"
      ]
    },
    {
      "cell_type": "code",
      "execution_count": 3,
      "metadata": {
        "colab": {
          "base_uri": "https://localhost:8080/"
        },
        "id": "j0q9miAGrMsC",
        "outputId": "652daa84-a409-4de2-c81e-fb375ff05ed5"
      },
      "outputs": [
        {
          "output_type": "stream",
          "name": "stdout",
          "text": [
            "Solution by Sam\n",
            "Goal reached!\n",
            "Visited: 6\n",
            "Solution depth: 5\n",
            "Steps:\n",
            "2 8 3\n",
            "1 6 4\n",
            "7 _ 5\n",
            "----------\n",
            "2 8 3\n",
            "1 _ 4\n",
            "7 6 5\n",
            "----------\n",
            "2 _ 3\n",
            "1 8 4\n",
            "7 6 5\n",
            "----------\n",
            "_ 2 3\n",
            "1 8 4\n",
            "7 6 5\n",
            "----------\n",
            "1 2 3\n",
            "_ 8 4\n",
            "7 6 5\n",
            "----------\n",
            "1 2 3\n",
            "8 _ 4\n",
            "7 6 5\n",
            "----------\n"
          ]
        }
      ],
      "source": [
        "import copy\n",
        "print(\"Solution by Sam\")\n",
        "goal = [[1, 2, 3],\n",
        "        [8, 0, 4],\n",
        "        [7, 6, 5]]\n",
        "\n",
        "\n",
        "moves = [(-1, 0), (1, 0), (0, -1), (0, 1)]\n",
        "\n",
        "def find_blank(state):\n",
        "    for i in range(3):\n",
        "        for j in range(3):\n",
        "            if state[i][j] == 0:\n",
        "                return i, j\n",
        "\n",
        "def is_goal(state):\n",
        "    return state == goal\n",
        "\n",
        "def get_neighbors(state):\n",
        "    neighbors = []\n",
        "    x, y = find_blank(state)\n",
        "    for dx, dy in moves:\n",
        "        nx, ny = x + dx, y + dy\n",
        "        if 0 <= nx < 3 and 0 <= ny < 3:\n",
        "            new_state = copy.deepcopy(state)\n",
        "            new_state[x][y], new_state[nx][ny] = new_state[nx][ny], new_state[x][y]\n",
        "            neighbors.append(new_state)\n",
        "    return neighbors\n",
        "\n",
        "def state_to_tuple(state):\n",
        "    return tuple(tuple(row) for row in state)\n",
        "\n",
        "def print_state(state):\n",
        "    for row in state:\n",
        "        print(\" \".join(str(num) if num != 0 else \"_\" for num in row))\n",
        "    print(\"----------\")\n",
        "\n",
        "def dfs_limited(state, path, depth, limit, visited, current_depth):\n",
        "    if depth == limit:\n",
        "\n",
        "        return None\n",
        "\n",
        "\n",
        "\n",
        "    if is_goal(state):\n",
        "        return path + [state]\n",
        "\n",
        "    visited.add(state_to_tuple(state))\n",
        "\n",
        "    for neighbor in get_neighbors(state):\n",
        "        key = state_to_tuple(neighbor)\n",
        "        if key not in visited:\n",
        "            result = dfs_limited(neighbor, path + [state], depth + 1, limit, visited, current_depth)\n",
        "            if result:\n",
        "                return result\n",
        "    return None\n",
        "\n",
        "def iddfs(start_state, max_depth=50):\n",
        "    for limit in range(max_depth + 1):\n",
        "\n",
        "        visited = set()\n",
        "        path = dfs_limited(start_state, [], 0, limit, visited, 0)\n",
        "        if path:\n",
        "            print(\"Goal reached!\")\n",
        "            print(\"Visited:\", len(visited))\n",
        "            print(\"Solution depth:\", len(path) - 1)\n",
        "            print(\"Steps:\")\n",
        "            for step in path:\n",
        "                print_state(step)\n",
        "            return\n",
        "    print(\"No solution found within depth limit.\")\n",
        "\n",
        "# Example usage\n",
        "start_state = [[2, 8, 3],\n",
        "               [1, 6, 4],\n",
        "               [7, 0, 5]]\n",
        "\n",
        "iddfs(start_state, max_depth=20)"
      ]
    }
  ]
}