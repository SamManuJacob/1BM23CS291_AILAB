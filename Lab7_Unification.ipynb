{
  "nbformat": 4,
  "nbformat_minor": 0,
  "metadata": {
    "colab": {
      "provenance": [],
      "authorship_tag": "ABX9TyM2X2jk/JnAjK7GRPLyH5Im",
      "include_colab_link": true
    },
    "kernelspec": {
      "name": "python3",
      "display_name": "Python 3"
    },
    "language_info": {
      "name": "python"
    }
  },
  "cells": [
    {
      "cell_type": "markdown",
      "metadata": {
        "id": "view-in-github",
        "colab_type": "text"
      },
      "source": [
        "<a href=\"https://colab.research.google.com/github/SamManuJacob/1BM23CS291_AILAB/blob/main/Lab7_Unification.ipynb\" target=\"_parent\"><img src=\"https://colab.research.google.com/assets/colab-badge.svg\" alt=\"Open In Colab\"/></a>"
      ]
    },
    {
      "cell_type": "code",
      "execution_count": 6,
      "metadata": {
        "colab": {
          "base_uri": "https://localhost:8080/"
        },
        "id": "FWM8tqNj8Sf4",
        "outputId": "6e08bcd7-45d1-4f7a-9271-d4a48b1dd4cb"
      },
      "outputs": [
        {
          "output_type": "stream",
          "name": "stdout",
          "text": [
            "Solution by Sam Manu Jacob-1BM23CS291\n",
            "=== Problem 1 ===\n",
            "MGU: {'Z': 'b', 'X': ['f', 'Y'], 'Y': ['g', 'b']}\n",
            "\n",
            "=== Problem 6 ===\n",
            "MGU: {'John': 'Y', 'X': 'Bill'}\n"
          ]
        }
      ],
      "source": [
        "def is_variable(x):\n",
        "    \"\"\"Variables are strings that start with an uppercase letter.\"\"\"\n",
        "    return isinstance(x, str) and x and x[0].isupper()\n",
        "\n",
        "def is_compound(x):\n",
        "    \"\"\"Compound terms are lists: [functor, arg1, arg2, ...]\"\"\"\n",
        "    return isinstance(x, list) and len(x) >= 1\n",
        "\n",
        "def occurs_check(var, x, subst):\n",
        "    \"\"\"Return True if var occurs in x.\"\"\"\n",
        "    if var == x:\n",
        "        return True\n",
        "    if is_variable(x) and x in subst:\n",
        "        return occurs_check(var, subst[x], subst)\n",
        "    if is_compound(x):\n",
        "        return any(occurs_check(var, xi, subst) for xi in x[1:])\n",
        "    return False\n",
        "\n",
        "def unify_var(var, x, subst):\n",
        "    if var in subst:\n",
        "        return unify(subst[var], x, subst)\n",
        "    if is_variable(x) and x in subst:\n",
        "        return unify(var, subst[x], subst)\n",
        "    if occurs_check(var, x, subst):\n",
        "        return \"FAIL\"\n",
        "    # otherwise record substitution var -> x (apply existing subst to x)\n",
        "    subst[var] = substitute(x, subst)\n",
        "    return subst\n",
        "\n",
        "def substitute(term, subst):\n",
        "    \"\"\"Apply substitution dict to a term (deep).\"\"\"\n",
        "    if is_variable(term):\n",
        "        return substitute(subst.get(term, term), subst) if term in subst else term\n",
        "    if is_compound(term):\n",
        "        return [term[0]] + [substitute(arg, subst) for arg in term[1:]]\n",
        "    return term  # constant (string)\n",
        "\n",
        "def unify(x, y, subst=None):\n",
        "    if subst is None:\n",
        "        subst = {}\n",
        "    # apply current substitution before proceeding\n",
        "    x = substitute(x, subst)\n",
        "    y = substitute(y, subst)\n",
        "    if x == y:\n",
        "        return subst\n",
        "    if is_variable(x):\n",
        "        return unify_var(x, y, subst)\n",
        "    if is_variable(y):\n",
        "        return unify_var(y, x, subst)\n",
        "    if is_compound(x) and is_compound(y) and x[0] == y[0] and len(x) == len(y):\n",
        "        # unify arguments left-to-right\n",
        "        for a, b in zip(x[1:], y[1:]):\n",
        "            subst = unify(a, b, subst)\n",
        "            if subst == \"FAIL\":\n",
        "                return \"FAIL\"\n",
        "        return subst\n",
        "    return \"FAIL\"\n",
        "\n",
        "\n",
        "\n",
        "expr1 = [\"p\", \"b\", \"X\", [\"f\", [\"g\", \"Z\"]]]\n",
        "expr2 = [\"p\", \"Z\", [\"f\", \"Y\"], [\"f\", \"Y\"]]\n",
        "\n",
        "\n",
        "expr3b = [\"knows\", \"John\", \"X\"]\n",
        "expr4b = [\"knows\", \"Y\", \"Bill\"]\n",
        "print(\"Solution by Sam Manu Jacob-1BM23CS291\")\n",
        "print(\"=== Problem 1 ===\")\n",
        "res1 = unify(expr1, expr2)\n",
        "print(\"MGU:\", res1)\n",
        "\n",
        "print(\"\\n=== Problem 6 ===\")\n",
        "res6 = unify(expr3b, expr4b)\n",
        "print(\"MGU:\", res6)\n"
      ]
    }
  ]
}