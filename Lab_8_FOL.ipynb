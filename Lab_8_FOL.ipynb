{
  "nbformat": 4,
  "nbformat_minor": 0,
  "metadata": {
    "colab": {
      "provenance": [],
      "authorship_tag": "ABX9TyO5upMvKc3bnHjXT28yN06H",
      "include_colab_link": true
    },
    "kernelspec": {
      "name": "python3",
      "display_name": "Python 3"
    },
    "language_info": {
      "name": "python"
    }
  },
  "cells": [
    {
      "cell_type": "markdown",
      "metadata": {
        "id": "view-in-github",
        "colab_type": "text"
      },
      "source": [
        "<a href=\"https://colab.research.google.com/github/SamManuJacob/1BM23CS291_AILAB/blob/main/Lab_8_FOL.ipynb\" target=\"_parent\"><img src=\"https://colab.research.google.com/assets/colab-badge.svg\" alt=\"Open In Colab\"/></a>"
      ]
    },
    {
      "cell_type": "code",
      "execution_count": 5,
      "metadata": {
        "colab": {
          "base_uri": "https://localhost:8080/"
        },
        "id": "Xk6MuxcVFgHS",
        "outputId": "458cefe3-0158-4479-f602-f074eadd0c97"
      },
      "outputs": [
        {
          "output_type": "stream",
          "name": "stdout",
          "text": [
            "Solution By Sam Manu Jacob-1BM23CS291\n",
            "Inferred: Weapon(T1)\n",
            "Inferred: Hostile(A)\n",
            "Inferred: Sells(Robert, T1, A)\n",
            "Inferred: Criminal(Robert)\n",
            "Goal achieved: True\n"
          ]
        }
      ],
      "source": [
        "import re\n",
        "\n",
        "print(\"Solution By Sam Manu Jacob-1BM23CS291\")\n",
        "\n",
        "def match_pattern(pattern, fact):\n",
        "    \"\"\"\n",
        "    Checks if a fact matches a rule pattern using regex-style variable substitution.\n",
        "    Variables are lowercase words like p, q, x, r etc.\n",
        "    Returns a dict of substitutions or None if not matched.\n",
        "    \"\"\"\n",
        "    # Extract predicate name and arguments\n",
        "    pattern_pred, pattern_args = re.match(r'(\\w+)\\(([^)]*)\\)', pattern).groups()\n",
        "    fact_pred, fact_args = re.match(r'(\\w+)\\(([^)]*)\\)', fact).groups()\n",
        "\n",
        "    if pattern_pred != fact_pred:\n",
        "        return None  # predicate mismatch\n",
        "\n",
        "    pattern_args = [a.strip() for a in pattern_args.split(\",\")]\n",
        "    fact_args = [a.strip() for a in fact_args.split(\",\")]\n",
        "\n",
        "    if len(pattern_args) != len(fact_args):\n",
        "        return None\n",
        "\n",
        "    subst = {}\n",
        "    for p_arg, f_arg in zip(pattern_args, fact_args):\n",
        "        if re.fullmatch(r'[a-z]\\w*', p_arg):  # variable\n",
        "            subst[p_arg] = f_arg\n",
        "        elif p_arg != f_arg:  # constants mismatch\n",
        "            return None\n",
        "    return subst\n",
        "\n",
        "\n",
        "def apply_substitution(expr, subst):\n",
        "    \"\"\"Replaces all variable names in expr using the given substitution dict.\"\"\"\n",
        "    for var, val in subst.items():\n",
        "        expr = re.sub(rf'\\b{var}\\b', val, expr)\n",
        "    return expr\n",
        "\n",
        "\n",
        "# ---------- Knowledge Base ----------\n",
        "\n",
        "rules = [\n",
        "    ([\"American(p)\", \"Weapon(q)\", \"Sells(p,q,r)\", \"Hostile(r)\"], \"Criminal(p)\"),\n",
        "    ([\"Missile(x)\"], \"Weapon(x)\"),\n",
        "    ([\"Enemy(x, America)\"], \"Hostile(x)\"),\n",
        "    ([\"Missile(x)\", \"Owns(A, x)\"], \"Sells(Robert, x, A)\")\n",
        "]\n",
        "\n",
        "facts = {\n",
        "    \"American(Robert)\",\n",
        "    \"Enemy(A, America)\",\n",
        "    \"Owns(A, T1)\",\n",
        "    \"Missile(T1)\"\n",
        "}\n",
        "\n",
        "goal = \"Criminal(Robert)\"\n",
        "\n",
        "def forward_chain(rules, facts, goal):\n",
        "    added = True\n",
        "    while added:\n",
        "        added = False\n",
        "        for premises, conclusion in rules:\n",
        "\n",
        "            possible_substs = []\n",
        "            for p in premises:\n",
        "                for f in facts:\n",
        "                    subst = match_pattern(p, f)\n",
        "                    if subst:\n",
        "                        possible_substs.append(subst)\n",
        "                        break\n",
        "                else:\n",
        "\n",
        "                    break\n",
        "            else:\n",
        "\n",
        "                combined = {}\n",
        "                for s in possible_substs:\n",
        "                    combined.update(s)\n",
        "\n",
        "                new_fact = apply_substitution(conclusion, combined)\n",
        "\n",
        "                if new_fact not in facts:\n",
        "                    facts.add(new_fact)\n",
        "                    print(f\"Inferred: {new_fact}\")\n",
        "                    added = True\n",
        "                    if new_fact == goal:\n",
        "                        return True\n",
        "    return goal in facts\n",
        "\n",
        "\n",
        "print(\"Goal achieved:\", forward_chain(rules, facts, goal))\n"
      ]
    },
    {
      "cell_type": "code",
      "source": [],
      "metadata": {
        "id": "CjVv16i9GNoJ"
      },
      "execution_count": null,
      "outputs": []
    }
  ]
}