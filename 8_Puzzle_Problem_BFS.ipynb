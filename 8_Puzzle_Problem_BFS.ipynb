{
  "nbformat": 4,
  "nbformat_minor": 0,
  "metadata": {
    "colab": {
      "provenance": [],
      "authorship_tag": "ABX9TyN7njiBMsoxDkBQ0edegY0Q",
      "include_colab_link": true
    },
    "kernelspec": {
      "name": "python3",
      "display_name": "Python 3"
    },
    "language_info": {
      "name": "python"
    }
  },
  "cells": [
    {
      "cell_type": "markdown",
      "metadata": {
        "id": "view-in-github",
        "colab_type": "text"
      },
      "source": [
        "<a href=\"https://colab.research.google.com/github/SamManuJacob/1BM23CS291_AILAB/blob/main/8_Puzzle_Problem_BFS.ipynb\" target=\"_parent\"><img src=\"https://colab.research.google.com/assets/colab-badge.svg\" alt=\"Open In Colab\"/></a>"
      ]
    },
    {
      "cell_type": "code",
      "execution_count": 8,
      "metadata": {
        "colab": {
          "base_uri": "https://localhost:8080/"
        },
        "id": "wOjYLsZrniab",
        "outputId": "5bdbc64d-3bc7-4330-efb6-31377948dc95"
      },
      "outputs": [
        {
          "output_type": "stream",
          "name": "stdout",
          "text": [
            "Solution By Sam Manu Jacob- 1BM23CS291\n",
            "State #1: [2, 8, 3, 1, 6, 4, 7, '_', 5]\n",
            "State #2: [2, 8, 3, 1, '_', 4, 7, 6, 5]\n",
            "State #3: [2, 8, 3, 1, 6, 4, '_', 7, 5]\n",
            "State #4: [2, 8, 3, 1, 6, 4, 7, 5, '_']\n",
            "State #5: [2, '_', 3, 1, 8, 4, 7, 6, 5]\n",
            "State #6: [2, 8, 3, '_', 1, 4, 7, 6, 5]\n",
            "State #7: [2, 8, 3, 1, 4, '_', 7, 6, 5]\n",
            "State #8: [2, 8, 3, '_', 6, 4, 1, 7, 5]\n",
            "State #9: [2, 8, 3, 1, 6, '_', 7, 5, 4]\n",
            "State #10: ['_', 2, 3, 1, 8, 4, 7, 6, 5]\n",
            "State #11: [2, 3, '_', 1, 8, 4, 7, 6, 5]\n",
            "State #12: ['_', 8, 3, 2, 1, 4, 7, 6, 5]\n",
            "State #13: [2, 8, 3, 7, 1, 4, '_', 6, 5]\n",
            "State #14: [2, 8, '_', 1, 4, 3, 7, 6, 5]\n",
            "State #15: [2, 8, 3, 1, 4, 5, 7, 6, '_']\n",
            "State #16: ['_', 8, 3, 2, 6, 4, 1, 7, 5]\n",
            "State #17: [2, 8, 3, 6, '_', 4, 1, 7, 5]\n",
            "State #18: [2, 8, '_', 1, 6, 3, 7, 5, 4]\n",
            "State #19: [2, 8, 3, 1, '_', 6, 7, 5, 4]\n",
            "State #20: [1, 2, 3, '_', 8, 4, 7, 6, 5]\n",
            "State #21: [2, 3, 4, 1, 8, '_', 7, 6, 5]\n",
            "State #22: [8, '_', 3, 2, 1, 4, 7, 6, 5]\n",
            "State #23: [2, 8, 3, 7, 1, 4, 6, '_', 5]\n",
            "State #24: [2, '_', 8, 1, 4, 3, 7, 6, 5]\n",
            "State #25: [2, 8, 3, 1, 4, 5, 7, '_', 6]\n",
            "State #26: [8, '_', 3, 2, 6, 4, 1, 7, 5]\n",
            "State #27: [2, '_', 3, 6, 8, 4, 1, 7, 5]\n",
            "State #28: [2, 8, 3, 6, 4, '_', 1, 7, 5]\n",
            "State #29: [2, 8, 3, 6, 7, 4, 1, '_', 5]\n",
            "State #30: [2, '_', 8, 1, 6, 3, 7, 5, 4]\n",
            "State #31: [2, '_', 3, 1, 8, 6, 7, 5, 4]\n",
            "State #32: [2, 8, 3, '_', 1, 6, 7, 5, 4]\n",
            "State #33: [2, 8, 3, 1, 5, 6, 7, '_', 4]\n",
            "State #34: [1, 2, 3, 8, '_', 4, 7, 6, 5]\n",
            "\n",
            "\n",
            "\n",
            "Solution path found:\n",
            "[2, 8, 3, 1, '_', 4, 7, 6, 5]\n",
            "[2, '_', 3, 1, 8, 4, 7, 6, 5]\n",
            "['_', 2, 3, 1, 8, 4, 7, 6, 5]\n",
            "[1, 2, 3, '_', 8, 4, 7, 6, 5]\n",
            "[1, 2, 3, 8, '_', 4, 7, 6, 5]\n"
          ]
        }
      ],
      "source": [
        "initial_state=[2,8,3,1,6,4,7,'_',5]\n",
        "goal_state = [1,2,3,8,'_',4,7,6,5]\n",
        "\n",
        "print(\"Solution By Sam Manu Jacob- 1BM23CS291\")\n",
        "def find_possible_moves(state):\n",
        "  if '_' in state:\n",
        "    index = state.index('_')\n",
        "\n",
        "  if index == 0:\n",
        "    return [1, 3]\n",
        "  elif index == 1:\n",
        "    return [0, 2, 4]\n",
        "  elif index == 2:\n",
        "    return [1, 5]\n",
        "  elif index == 3:\n",
        "    return [0, 4, 6]\n",
        "  elif index == 4:\n",
        "    return [1, 3, 5, 7]\n",
        "  elif index == 5:\n",
        "    return [2, 4, 8]\n",
        "  elif index == 6:\n",
        "    return [3, 7]\n",
        "  elif index == 7:\n",
        "    return [4, 6, 8]\n",
        "  elif index == 8:\n",
        "    return [5, 7]\n",
        "  else:\n",
        "    return []\n",
        "\n",
        "from collections import deque\n",
        "\n",
        "def bfs(initial_state, goal_state):\n",
        "  queue = deque([(initial_state, [])])\n",
        "  visited = {tuple(initial_state)}\n",
        "  states_explored = 0\n",
        "  while queue:\n",
        "    current_state, path = queue.popleft()\n",
        "    states_explored += 1\n",
        "    print(f\"State #{states_explored}: {current_state}\")\n",
        "    if current_state == goal_state:\n",
        "      return path\n",
        "\n",
        "    possible_moves_indices = find_possible_moves(current_state)\n",
        "\n",
        "    for move_index in possible_moves_indices:\n",
        "\n",
        "        next_state = list(current_state)\n",
        "        blank_index = next_state.index('_')\n",
        "        next_state[blank_index], next_state[move_index] = next_state[move_index], next_state[blank_index]\n",
        "\n",
        "        if tuple(next_state) not in visited:\n",
        "            visited.add(tuple(next_state))\n",
        "            queue.append((next_state, path + [next_state]))\n",
        "\n",
        "  return None\n",
        "\n",
        "solution_path = bfs(initial_state, goal_state)\n",
        "\n",
        "if solution_path is None:\n",
        "  print(\"Goal state is not reachable from the initial state.\")\n",
        "else:\n",
        "  print(\"\\n\\n\\nSolution path found:\")\n",
        "  for state in solution_path:\n",
        "    print(state)\n"
      ]
    }
  ]
}