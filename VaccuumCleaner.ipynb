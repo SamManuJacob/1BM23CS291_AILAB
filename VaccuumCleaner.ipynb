{
  "nbformat": 4,
  "nbformat_minor": 0,
  "metadata": {
    "colab": {
      "provenance": [],
      "authorship_tag": "ABX9TyNUd3Tz4hCCGhTUTs8K3Vxz",
      "include_colab_link": true
    },
    "kernelspec": {
      "name": "python3",
      "display_name": "Python 3"
    },
    "language_info": {
      "name": "python"
    }
  },
  "cells": [
    {
      "cell_type": "markdown",
      "metadata": {
        "id": "view-in-github",
        "colab_type": "text"
      },
      "source": [
        "<a href=\"https://colab.research.google.com/github/SamManuJacob/1BM23CS291_AILAB/blob/main/VaccuumCleaner.ipynb\" target=\"_parent\"><img src=\"https://colab.research.google.com/assets/colab-badge.svg\" alt=\"Open In Colab\"/></a>"
      ]
    },
    {
      "cell_type": "code",
      "execution_count": 3,
      "metadata": {
        "colab": {
          "base_uri": "https://localhost:8080/"
        },
        "id": "quUglt-jmRad",
        "outputId": "fe0747cd-8ca5-4117-b72a-966629530aaf"
      },
      "outputs": [
        {
          "output_type": "stream",
          "name": "stdout",
          "text": [
            "Enter Initial Position2\n",
            "[1, 1, 1, 1]\n",
            "2\n",
            "[1, 0, 1, 1]\n",
            "3\n",
            "[1, 0, 0, 1]\n",
            "1\n",
            "[0, 0, 0, 1]\n",
            "4\n",
            "cost=4\n"
          ]
        }
      ],
      "source": [
        "import random\n",
        "rooms=[1,1,1,1]\n",
        "botpos =(int(input(\"Enter Initial Position\"))-1)\n",
        "cleanedpos=[]\n",
        "cost=0\n",
        "\n",
        "def movebot(pos):\n",
        "\n",
        "    while True:\n",
        "        n= random.randint(0,3)\n",
        "        if n != pos and n not in cleanedpos:\n",
        "            pos = n\n",
        "            break\n",
        "    return pos\n",
        "\n",
        "while True:\n",
        "    print(str(rooms))\n",
        "    print(botpos+1)\n",
        "\n",
        "    if rooms[botpos]==1:\n",
        "\n",
        "        rooms[botpos]=0\n",
        "        cleanedpos.append(botpos)\n",
        "        cost+=1\n",
        "        if len(cleanedpos) == 4:\n",
        "            break\n",
        "        botpos=movebot(botpos)\n",
        "\n",
        "    elif rooms[botpos]==0:\n",
        "        cleanedpos.append(botpos)\n",
        "        if len(cleanedpos) == 4:\n",
        "            break\n",
        "        botpos = movebot(botpos)\n",
        "\n",
        "\n",
        "\n",
        "\n",
        "\n",
        "\n",
        "print(\"cost=\"+str(cost))\n",
        "\n",
        "print(\"Sam Manu Jacob\")\n"
      ]
    }
  ]
}